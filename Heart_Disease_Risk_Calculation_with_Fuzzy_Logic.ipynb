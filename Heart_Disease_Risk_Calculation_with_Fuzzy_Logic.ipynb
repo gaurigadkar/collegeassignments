{
  "nbformat": 4,
  "nbformat_minor": 0,
  "metadata": {
    "colab": {
      "provenance": [],
      "authorship_tag": "ABX9TyM6VzHhuiSCBDXBg/dLsP4f",
      "include_colab_link": true
    },
    "kernelspec": {
      "name": "python3",
      "display_name": "Python 3"
    },
    "language_info": {
      "name": "python"
    }
  },
  "cells": [
    {
      "cell_type": "markdown",
      "metadata": {
        "id": "view-in-github",
        "colab_type": "text"
      },
      "source": [
        "<a href=\"https://colab.research.google.com/github/gaurigadkar/collegeassignments/blob/main/Heart_Disease_Risk_Calculation_with_Fuzzy_Logic.ipynb\" target=\"_parent\"><img src=\"https://colab.research.google.com/assets/colab-badge.svg\" alt=\"Open In Colab\"/></a>"
      ]
    },
    {
      "cell_type": "code",
      "execution_count": null,
      "metadata": {
        "colab": {
          "base_uri": "https://localhost:8080/"
        },
        "id": "GFS4_YNRxRIV",
        "outputId": "24e460b8-70e1-4e9f-b35c-9118ef33fa75"
      },
      "outputs": [
        {
          "output_type": "stream",
          "name": "stdout",
          "text": [
            "Looking in indexes: https://pypi.org/simple, https://us-python.pkg.dev/colab-wheels/public/simple/\n",
            "Collecting scikit-fuzzy\n",
            "  Downloading scikit-fuzzy-0.4.2.tar.gz (993 kB)\n",
            "\u001b[K     |████████████████████████████████| 993 kB 25.7 MB/s \n",
            "\u001b[?25hRequirement already satisfied: numpy>=1.6.0 in /usr/local/lib/python3.8/dist-packages (from scikit-fuzzy) (1.21.6)\n",
            "Requirement already satisfied: scipy>=0.9.0 in /usr/local/lib/python3.8/dist-packages (from scikit-fuzzy) (1.7.3)\n",
            "Requirement already satisfied: networkx>=1.9.0 in /usr/local/lib/python3.8/dist-packages (from scikit-fuzzy) (2.8.8)\n",
            "Building wheels for collected packages: scikit-fuzzy\n",
            "  Building wheel for scikit-fuzzy (setup.py) ... \u001b[?25l\u001b[?25hdone\n",
            "  Created wheel for scikit-fuzzy: filename=scikit_fuzzy-0.4.2-py3-none-any.whl size=894088 sha256=d66cf8df950316c60e131e791113374bc055adb08024f094c42c81009b2953ad\n",
            "  Stored in directory: /root/.cache/pip/wheels/2c/04/80/7eefb1a2de7d36aefd06432fab2a1486caf0a0596a7067391a\n",
            "Successfully built scikit-fuzzy\n",
            "Installing collected packages: scikit-fuzzy\n",
            "Successfully installed scikit-fuzzy-0.4.2\n"
          ]
        }
      ],
      "source": [
        "pip install scikit-fuzzy"
      ]
    },
    {
      "cell_type": "code",
      "source": [
        "import numpy as np"
      ],
      "metadata": {
        "id": "zaeyU1NNxhS2"
      },
      "execution_count": null,
      "outputs": []
    },
    {
      "cell_type": "code",
      "source": [
        "import skfuzzy as fuzz\n",
        "import skfuzzy.membership as mf\n",
        "import matplotlib.pyplot as plt\n",
        "\n"
      ],
      "metadata": {
        "id": "Ur7C4hy7xp3E"
      },
      "execution_count": null,
      "outputs": []
    },
    {
      "cell_type": "code",
      "source": [
        "x_age = np.arange(0, 101, 1)\n",
        "x_bloodPressure = np.arange(0, 221, 1)\n",
        "x_cholesterol = np.arange(100, 251, 1)\n",
        "x_bloodSugar = np.arange(0, 121, 1)\n",
        "x_hdl = np.arange(0, 71, 1)\n",
        "x_ldl = np.arange(0, 191, 1)\n",
        "y_risk = np.arange(0, 46, 1)\n",
        "\n"
      ],
      "metadata": {
        "id": "9cPGGg7GxzF6"
      },
      "execution_count": null,
      "outputs": []
    },
    {
      "cell_type": "code",
      "source": [
        "print(\"\\n\\n------------------------------------Welcome-----------------------------------------\\n\\n\")\n",
        "print(\"Enter health data for Heart Disease Risk Calculation with Fuzzy Logic...\\n\\n\")\n"
      ],
      "metadata": {
        "colab": {
          "base_uri": "https://localhost:8080/"
        },
        "id": "-AwAe9EWync_",
        "outputId": "938b5b64-8c3b-4d67-8570-0efabf683fd8"
      },
      "execution_count": null,
      "outputs": [
        {
          "output_type": "stream",
          "name": "stdout",
          "text": [
            "\n",
            "\n",
            "------------------------------------Welcome-----------------------------------------\n",
            "\n",
            "\n",
            "Enter health data for Heart Disease Risk Calculation with Fuzzy Logic...\n",
            "\n",
            "\n"
          ]
        }
      ]
    },
    {
      "cell_type": "code",
      "source": [
        "input_age = int(input(\"Age: \"))\n",
        "input_bloodPressure = int(input(\"Blood pressure: \"))\n",
        "input_cholesterol = int(input(\"Cholesterol: \"))\n",
        "input_bloodSugar = int(input(\"Blood sugar: \"))\n",
        "input_bloodSugar = int(input(\"Blood sugar: \"))\n",
        "input_ldl = int(input(\"LDL (Good cholesterol): \"))\n",
        "input_hdl = int(input(\"HDL (Bad Cholesterol): \"))\n",
        "\n",
        "\n"
      ],
      "metadata": {
        "colab": {
          "base_uri": "https://localhost:8080/"
        },
        "id": "6pSGrx2ozCQ8",
        "outputId": "f698a077-9662-4067-b181-43dee25beede"
      },
      "execution_count": null,
      "outputs": [
        {
          "name": "stdout",
          "output_type": "stream",
          "text": [
            "Age: 50\n",
            "Blood pressure: 130\n",
            "Cholesterol: 120\n",
            "Blood sugar: 120\n",
            "Blood sugar: 120\n",
            "LDL (Good cholesterol): 50\n",
            "HDL (Bad Cholesterol): 70\n"
          ]
        }
      ]
    },
    {
      "cell_type": "code",
      "source": [
        "print(\"\\n\\nThank you for the values you entered.\")\n",
        "print(\"\\n\\nCalculations are being made. Please wait...\\n\\n\")\n",
        "\n"
      ],
      "metadata": {
        "colab": {
          "base_uri": "https://localhost:8080/"
        },
        "id": "895fpUKazdgq",
        "outputId": "f5bd3e9c-a515-4e19-cbe8-84f0d6e4a51d"
      },
      "execution_count": null,
      "outputs": [
        {
          "output_type": "stream",
          "name": "stdout",
          "text": [
            "\n",
            "\n",
            "Thank you for the values you entered.\n",
            "\n",
            "\n",
            "Calculations are being made. Please wait...\n",
            "\n",
            "\n"
          ]
        }
      ]
    },
    {
      "cell_type": "code",
      "source": [
        "age_young = mf.trapmf(x_age, [-30, -5, 30, 40])\n",
        "age_mid = mf.trapmf(x_age, [30, 40, 50, 60])\n",
        "age_old = mf.trapmf(x_age, [50, 60, 100, 100])\n"
      ],
      "metadata": {
        "id": "GNblSI8UznlN"
      },
      "execution_count": null,
      "outputs": []
    },
    {
      "cell_type": "code",
      "source": [
        "bloodPressure_low = mf.trapmf(x_bloodPressure, [-30, -5, 100, 120])\n",
        "bloodPressure_mid = mf.trapmf(x_bloodPressure, [100, 120, 140, 160])\n",
        "bloodPressure_high = mf.trapmf(x_bloodPressure, [140, 160, 180, 200])\n",
        "bloodPressure_veryHigh = mf.trapmf(x_bloodPressure, [180, 200, 220, 220])\n",
        "\n"
      ],
      "metadata": {
        "id": "UYSUljGRz--a"
      },
      "execution_count": null,
      "outputs": []
    },
    {
      "cell_type": "code",
      "source": [
        "cholesterol_low = mf.trapmf(x_cholesterol, [-30, -5, 180, 200])\n",
        "cholesterol_mid = mf.trapmf(x_cholesterol, [180, 200, 220, 240])\n",
        "cholesterol_high = mf.trapmf(x_cholesterol, [220, 240, 250, 270])\n",
        "\n"
      ],
      "metadata": {
        "id": "qjuYUi4D0FXO"
      },
      "execution_count": null,
      "outputs": []
    },
    {
      "cell_type": "code",
      "source": [
        "ldl_normal= mf.trimf(x_ldl, [0, 0, 100,])\n",
        "ldl_limit= mf.trimf(x_ldl, [100, 130, 160,])\n",
        "ldl_high= mf.trimf(x_ldl, [130, 160, 190,])\n",
        "ldl_veryHigh= mf.trapmf(x_ldl, [160, 190, 200, 200])\n",
        "\n",
        "hdl_low= mf.trapmf(x_hdl, [0, 0, 30, 40])\n",
        "hdl_mid= mf.trapmf(x_hdl, [30, 40, 50, 60])\n",
        "hdl_high= mf.trapmf(x_hdl, [50, 60, 80, 80])\n",
        "\n",
        "risk_not = mf.trapmf(y_risk, [0 ,0 ,5 ,10])\n",
        "risk_little = mf.trapmf(y_risk, [5 ,10 ,15 ,20])\n",
        "risk_mid = mf.trapmf(y_risk, [15 ,20 ,25 ,30])\n",
        "risk_high = mf.trapmf(y_risk, [25 ,30 ,35 ,40])\n",
        "risk_veryHigh = mf.trapmf(y_risk, [35, 40, 45, 50])\n",
        "\n"
      ],
      "metadata": {
        "id": "KR3hhKQh8JUK"
      },
      "execution_count": null,
      "outputs": []
    },
    {
      "cell_type": "code",
      "source": [
        "bloodSugar_veryHigh = mf.trimf(x_bloodSugar, [90, 120, 130])"
      ],
      "metadata": {
        "id": "4w5Fj_tN0MD3"
      },
      "execution_count": null,
      "outputs": []
    },
    {
      "cell_type": "code",
      "source": [
        "fig, (ax0, ax1, ax2, ax3, ax4, ax5, ax6) = plt.subplots(nrows = 7, figsize =(10, 25))\n",
        "\n",
        "ax0.plot(x_age, age_young, 'r', linewidth = 2, label = 'Young')\n",
        "ax0.plot(x_age, age_mid, 'g', linewidth = 2, label = 'Middle')\n",
        "ax0.plot(x_age, age_old, 'b', linewidth = 2, label = 'Old')\n",
        "ax0.set_title('age')\n",
        "ax0.legend()\n"
      ],
      "metadata": {
        "colab": {
          "base_uri": "https://localhost:8080/",
          "height": 1000
        },
        "id": "U-K-GUNF0ju-",
        "outputId": "e2ead4ed-ab94-4e2c-d6db-1913a81af153"
      },
      "execution_count": null,
      "outputs": [
        {
          "output_type": "execute_result",
          "data": {
            "text/plain": [
              "<matplotlib.legend.Legend at 0x7fe086d4f6d0>"
            ]
          },
          "metadata": {},
          "execution_count": 12
        },
        {
          "output_type": "display_data",
          "data": {
            "text/plain": [
              "<Figure size 720x1800 with 7 Axes>"
            ],
            "image/png": "[encoded data removed]"
          },
          "metadata": {
            "needs_background": "light"
          }
        }
      ]
    },
    {
      "cell_type": "code",
      "source": [
        "ax1.plot(x_bloodPressure, bloodPressure_low, 'r', linewidth = 2, label = 'Low')\n",
        "ax1.plot(x_bloodPressure, bloodPressure_mid, 'g', linewidth = 2, label = 'Middle')\n",
        "ax1.plot(x_bloodPressure, bloodPressure_high, 'b', linewidth = 2, label = 'High')\n",
        "ax1.plot(x_bloodPressure, bloodPressure_veryHigh, 'y', linewidth = 2, label = 'Very High')\n",
        "ax1.set_title('Blood Pressure')\n",
        "ax1.legend()\n"
      ],
      "metadata": {
        "colab": {
          "base_uri": "https://localhost:8080/"
        },
        "id": "aeMc5nPy0ngO",
        "outputId": "c63cb8c9-91c4-444c-d92b-f97f254e15a4"
      },
      "execution_count": null,
      "outputs": [
        {
          "output_type": "execute_result",
          "data": {
            "text/plain": [
              "<matplotlib.legend.Legend at 0x7fe086816850>"
            ]
          },
          "metadata": {},
          "execution_count": 13
        }
      ]
    },
    {
      "cell_type": "code",
      "source": [
        "ax2.plot(x_cholesterol, cholesterol_low, 'r', linewidth = 2, label = 'Low')\n",
        "ax2.plot(x_cholesterol, cholesterol_mid, 'g', linewidth = 2, label = 'Middle')\n",
        "ax2.plot(x_cholesterol, cholesterol_high, 'b', linewidth = 2, label = 'High')\n",
        "ax2.set_title('Colestrol')\n",
        "ax2.legend()\n",
        "\n",
        "ax3.plot(x_bloodSugar, bloodSugar_veryHigh, 'b', linewidth = 2, label = 'Very High')\n",
        "ax3.set_title('Blood Sugar')\n",
        "ax3.legend()\n"
      ],
      "metadata": {
        "colab": {
          "base_uri": "https://localhost:8080/"
        },
        "id": "w4rCBtA_0upi",
        "outputId": "680a21fc-47df-4321-d87c-fb0b2176d239"
      },
      "execution_count": null,
      "outputs": [
        {
          "output_type": "execute_result",
          "data": {
            "text/plain": [
              "<matplotlib.legend.Legend at 0x7fe08681de80>"
            ]
          },
          "metadata": {},
          "execution_count": 14
        }
      ]
    },
    {
      "cell_type": "code",
      "source": [
        "\n",
        "age_fit_young = fuzz.interp_membership(x_age, age_young, input_age)\n",
        "age_fit_mid = fuzz.interp_membership(x_age, age_mid, input_age)\n",
        "age_fit_old = fuzz.interp_membership(x_age, age_old, input_age)\n"
      ],
      "metadata": {
        "id": "_b9uHYzP04le"
      },
      "execution_count": null,
      "outputs": []
    },
    {
      "cell_type": "code",
      "source": [
        "bloodPressure_fit_low = fuzz.interp_membership(x_bloodPressure, bloodPressure_low, input_bloodPressure)\n",
        "bloodPressure_fit_mid = fuzz.interp_membership(x_bloodPressure, bloodPressure_mid, input_bloodPressure)\n",
        "bloodPressure_fit_high = fuzz.interp_membership(x_bloodPressure,bloodPressure_high , input_bloodPressure)\n",
        "bloodPressure_fit_veryHigh = fuzz.interp_membership(x_bloodPressure, bloodPressure_veryHigh, input_bloodPressure)\n"
      ],
      "metadata": {
        "id": "VhivF_QT1U1k"
      },
      "execution_count": null,
      "outputs": []
    },
    {
      "cell_type": "code",
      "source": [
        "cholesterol_fit_low = fuzz.interp_membership(x_cholesterol, cholesterol_low, input_cholesterol)\n",
        "cholesterol_fit_mid = fuzz.interp_membership(x_cholesterol, cholesterol_mid, input_cholesterol)\n",
        "cholesterol_fit_high = fuzz.interp_membership(x_cholesterol, cholesterol_high, input_cholesterol)\n",
        "\n",
        "bloodSugar_fit_veryHigh = fuzz.interp_membership(x_bloodSugar, bloodSugar_veryHigh, input_bloodSugar)\n"
      ],
      "metadata": {
        "id": "F_bVdPaj1bh8"
      },
      "execution_count": null,
      "outputs": []
    },
    {
      "cell_type": "code",
      "source": [
        "\n",
        "\n",
        "\n",
        "\n"
      ],
      "metadata": {
        "colab": {
          "base_uri": "https://localhost:8080/",
          "height": 483
        },
        "id": "8tUoxl7c1k3G",
        "outputId": "3817020a-4440-4bc7-a65d-f57647a5a972"
      },
      "execution_count": null,
      "outputs": [
        {
          "output_type": "error",
          "ename": "NameError",
          "evalue": "ignored",
          "traceback": [
            "\u001b[0;31m---------------------------------------------------------------------------\u001b[0m",
            "\u001b[0;31mNameError\u001b[0m                                 Traceback (most recent call last)",
            "\u001b[0;32m<ipython-input-27-e32ab8825642>\u001b[0m in \u001b[0;36m<module>\u001b[0;34m\u001b[0m\n\u001b[1;32m      9\u001b[0m \u001b[0max0\u001b[0m\u001b[0;34m.\u001b[0m\u001b[0mplot\u001b[0m\u001b[0;34m(\u001b[0m\u001b[0my_risk\u001b[0m\u001b[0;34m,\u001b[0m \u001b[0mrisk_veryHigh\u001b[0m\u001b[0;34m,\u001b[0m \u001b[0;34m'm'\u001b[0m\u001b[0;34m,\u001b[0m \u001b[0mlinewidth\u001b[0m \u001b[0;34m=\u001b[0m \u001b[0;36m0.5\u001b[0m\u001b[0;34m,\u001b[0m \u001b[0mlinestyle\u001b[0m \u001b[0;34m=\u001b[0m \u001b[0;34m'--'\u001b[0m\u001b[0;34m)\u001b[0m\u001b[0;34m\u001b[0m\u001b[0;34m\u001b[0m\u001b[0m\n\u001b[1;32m     10\u001b[0m \u001b[0;34m\u001b[0m\u001b[0m\n\u001b[0;32m---> 11\u001b[0;31m \u001b[0max0\u001b[0m\u001b[0;34m.\u001b[0m\u001b[0mfill_between\u001b[0m\u001b[0;34m(\u001b[0m\u001b[0my_risk\u001b[0m\u001b[0;34m,\u001b[0m \u001b[0mrisk0\u001b[0m\u001b[0;34m,\u001b[0m \u001b[0mout_risk\u001b[0m\u001b[0;34m,\u001b[0m \u001b[0mfacecolor\u001b[0m \u001b[0;34m=\u001b[0m \u001b[0;34m'Orange'\u001b[0m\u001b[0;34m,\u001b[0m \u001b[0malpha\u001b[0m \u001b[0;34m=\u001b[0m \u001b[0;36m0.7\u001b[0m\u001b[0;34m)\u001b[0m\u001b[0;34m\u001b[0m\u001b[0;34m\u001b[0m\u001b[0m\n\u001b[0m\u001b[1;32m     12\u001b[0m \u001b[0max0\u001b[0m\u001b[0;34m.\u001b[0m\u001b[0mplot\u001b[0m\u001b[0;34m(\u001b[0m\u001b[0;34m[\u001b[0m\u001b[0mdefuzzified\u001b[0m \u001b[0;34m,\u001b[0m \u001b[0mdefuzzified\u001b[0m\u001b[0;34m]\u001b[0m\u001b[0;34m,\u001b[0m \u001b[0;34m[\u001b[0m\u001b[0;36m0\u001b[0m\u001b[0;34m,\u001b[0m \u001b[0mresult\u001b[0m\u001b[0;34m]\u001b[0m\u001b[0;34m,\u001b[0m \u001b[0;34m'k'\u001b[0m\u001b[0;34m,\u001b[0m \u001b[0mlinewidth\u001b[0m \u001b[0;34m=\u001b[0m \u001b[0;36m1.5\u001b[0m\u001b[0;34m,\u001b[0m \u001b[0malpha\u001b[0m \u001b[0;34m=\u001b[0m \u001b[0;36m0.9\u001b[0m\u001b[0;34m)\u001b[0m\u001b[0;34m\u001b[0m\u001b[0;34m\u001b[0m\u001b[0m\n\u001b[1;32m     13\u001b[0m \u001b[0max0\u001b[0m\u001b[0;34m.\u001b[0m\u001b[0mset_title\u001b[0m\u001b[0;34m(\u001b[0m\u001b[0;34m'Centroid Deffuzification'\u001b[0m\u001b[0;34m)\u001b[0m\u001b[0;34m\u001b[0m\u001b[0;34m\u001b[0m\u001b[0m\n",
            "\u001b[0;31mNameError\u001b[0m: name 'risk0' is not defined"
          ]
        },
        {
          "output_type": "display_data",
          "data": {
            "text/plain": [
              "<Figure size 504x288 with 1 Axes>"
            ],
            "image/png": "[encoded data removed]"
          },
          "metadata": {
            "needs_background": "light"
          }
        }
      ]
    }
  ]
}